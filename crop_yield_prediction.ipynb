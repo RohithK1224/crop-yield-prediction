{
  "nbformat": 4,
  "nbformat_minor": 0,
  "metadata": {
    "colab": {
      "provenance": [],
      "authorship_tag": "ABX9TyOxkTZHDzS5akKLRsHKYJ13"
    },
    "kernelspec": {
      "name": "python3",
      "display_name": "Python 3"
    },
    "language_info": {
      "name": "python"
    }
  },
  "cells": [
    {
      "cell_type": "code",
      "execution_count": null,
      "metadata": {
        "id": "Gsu_XhsqueFc"
      },
      "outputs": [],
      "source": [
        "import pandas as pd\n",
        "import numpy as np\n",
        "from sklearn.model_selection import train_test_split\n",
        "from sklearn.ensemble import RandomForestRegressor\n",
        "from sklearn.metrics import mean_squared_error,r2_score\n",
        "from sklearn.preprocessing import OneHotEncoder, StandardScaler\n",
        "from sklearn.compose import ColumnTransformer\n",
        "from sklearn.pipeline import Pipeline\n",
        "import pickle"
      ]
    },
    {
      "cell_type": "code",
      "source": [
        "data = pd.read_csv(\"crop_yield.csv\")"
      ],
      "metadata": {
        "id": "dnzbuvOjve04"
      },
      "execution_count": null,
      "outputs": []
    },
    {
      "cell_type": "code",
      "source": [
        "data.head(), data.info()"
      ],
      "metadata": {
        "colab": {
          "base_uri": "https://localhost:8080/"
        },
        "id": "aSighU1V1yyF",
        "outputId": "2fcd6644-c7fb-4f0e-f8a0-80d831a56955"
      },
      "execution_count": null,
      "outputs": [
        {
          "output_type": "stream",
          "name": "stdout",
          "text": [
            "<class 'pandas.core.frame.DataFrame'>\n",
            "RangeIndex: 19689 entries, 0 to 19688\n",
            "Data columns (total 10 columns):\n",
            " #   Column           Non-Null Count  Dtype  \n",
            "---  ------           --------------  -----  \n",
            " 0   Crop             19689 non-null  object \n",
            " 1   Crop_Year        19689 non-null  int64  \n",
            " 2   Season           19689 non-null  object \n",
            " 3   State            19689 non-null  object \n",
            " 4   Area             19689 non-null  float64\n",
            " 5   Production       19689 non-null  int64  \n",
            " 6   Annual_Rainfall  19689 non-null  float64\n",
            " 7   Fertilizer       19689 non-null  float64\n",
            " 8   Pesticide        19689 non-null  float64\n",
            " 9   Yield            19689 non-null  float64\n",
            "dtypes: float64(5), int64(2), object(3)\n",
            "memory usage: 1.5+ MB\n"
          ]
        },
        {
          "output_type": "execute_result",
          "data": {
            "text/plain": [
              "(           Crop  Crop_Year       Season  State     Area  Production  \\\n",
              " 0      Arecanut       1997  Whole Year   Assam  73814.0       56708   \n",
              " 1     Arhar/Tur       1997  Kharif       Assam   6637.0        4685   \n",
              " 2   Castor seed       1997  Kharif       Assam    796.0          22   \n",
              " 3      Coconut        1997  Whole Year   Assam  19656.0   126905000   \n",
              " 4  Cotton(lint)       1997  Kharif       Assam   1739.0         794   \n",
              " \n",
              "    Annual_Rainfall  Fertilizer  Pesticide        Yield  \n",
              " 0           2051.4  7024878.38   22882.34     0.796087  \n",
              " 1           2051.4   631643.29    2057.47     0.710435  \n",
              " 2           2051.4    75755.32     246.76     0.238333  \n",
              " 3           2051.4  1870661.52    6093.36  5238.051739  \n",
              " 4           2051.4   165500.63     539.09     0.420909  ,\n",
              " None)"
            ]
          },
          "metadata": {},
          "execution_count": 3
        }
      ]
    },
    {
      "cell_type": "code",
      "source": [
        "# Separate features (X) and target variable (y)\n",
        "X = data.drop(columns=['Yield'])\n",
        "y = data['Yield']\n",
        "\n",
        "# Identify categorical and numerical columns\n",
        "categorical_cols = ['Crop', 'Season', 'State']\n",
        "numerical_cols = ['Crop_Year', 'Area', 'Production', 'Annual_Rainfall', 'Fertilizer', 'Pesticide']\n",
        "\n",
        "# Split the data into training and testing sets\n",
        "X_train, X_test, y_train, y_test = train_test_split(X, y, test_size=0.2, random_state=42)"
      ],
      "metadata": {
        "id": "YIoKgjCl1ajI"
      },
      "execution_count": null,
      "outputs": []
    },
    {
      "cell_type": "markdown",
      "source": [
        "Preprocessing"
      ],
      "metadata": {
        "id": "uoeZHVBJ9G4T"
      }
    },
    {
      "cell_type": "code",
      "source": [
        "preprocessor = ColumnTransformer(\n",
        "    transformers=[\n",
        "        ('num', StandardScaler(), numerical_cols),\n",
        "        ('cat', OneHotEncoder(handle_unknown='ignore'), categorical_cols)\n",
        "    ]\n",
        ")\n"
      ],
      "metadata": {
        "id": "KnGFZWMp87tp"
      },
      "execution_count": null,
      "outputs": []
    },
    {
      "cell_type": "markdown",
      "source": [
        "Building pipeline"
      ],
      "metadata": {
        "id": "TpdiiNhw9VPN"
      }
    },
    {
      "cell_type": "code",
      "source": [
        "model_pipeline = Pipeline(steps=[\n",
        "    ('preprocessor', preprocessor),\n",
        "    ('regressor', RandomForestRegressor(n_estimators=100, random_state=42))\n",
        "])"
      ],
      "metadata": {
        "id": "K21c5z169UJx"
      },
      "execution_count": null,
      "outputs": []
    },
    {
      "cell_type": "code",
      "source": [
        "# Update the Random Forest model with fewer estimators for faster training\n",
        "model_pipeline.set_params(regressor__n_estimators=10)  # Reduce number of estimators\n",
        "\n",
        "# Retrain the model\n",
        "model_pipeline.fit(X_train, y_train)\n",
        "\n",
        "# Predict on test set\n",
        "y_pred = model_pipeline.predict(X_test)\n",
        "\n",
        "# Evaluate the model\n",
        "rmse = np.sqrt(mean_squared_error(y_test, y_pred))\n",
        "r2 = r2_score(y_test, y_pred)\n",
        "\n",
        "# Save the trained model\n",
        "model_file_path ='crop_yield_model.pkl'\n",
        "with open(model_file_path, 'wb') as f:\n",
        "    pickle.dump(model_pipeline, f)\n",
        "\n",
        "rmse, r2, model_file_path\n"
      ],
      "metadata": {
        "colab": {
          "base_uri": "https://localhost:8080/"
        },
        "id": "P1NeRhFT-lVM",
        "outputId": "42b32a61-cade-48de-acdb-54a64d6bda6d"
      },
      "execution_count": null,
      "outputs": [
        {
          "output_type": "execute_result",
          "data": {
            "text/plain": [
              "(122.34698619160595, 0.9813179726998675, 'crop_yield_model.pkl')"
            ]
          },
          "metadata": {},
          "execution_count": 7
        }
      ]
    }
  ]
}